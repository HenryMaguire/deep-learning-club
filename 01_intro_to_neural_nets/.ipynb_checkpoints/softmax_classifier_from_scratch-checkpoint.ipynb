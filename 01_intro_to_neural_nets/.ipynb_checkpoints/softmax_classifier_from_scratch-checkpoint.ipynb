{
 "cells": [
  {
   "cell_type": "markdown",
   "metadata": {},
   "source": [
    "# Backpropagation from scratch\n",
    "\n",
    "## Multi-class Softmax classifier\n",
    "- Sigmoidal activation on the hidden-layer\n",
    "- Softmax output + Cross-Entropy loss\n",
    "- A single training example : no minibatches\n",
    "For more info on backpropagation of the loss function, see [this post](https://peterroelants.github.io/posts/cross-entropy-softmax/)"
   ]
  },
  {
   "cell_type": "code",
   "execution_count": 60,
   "metadata": {},
   "outputs": [],
   "source": [
    "import numpy as np\n",
    "import matplotlib.pyplot as plt\n",
    "\n",
    "# sigmoid function\n",
    "def sigmoid(x):\n",
    "    return 1/(1+np.exp(-x))\n",
    "\n",
    "def sigmoid_slope(x):\n",
    "    return x*(1-x)\n",
    "\n",
    "def softmax(x):\n",
    "    \"\"\"Compute the softmax of vector x in a numerically stable way.\"\"\"\n",
    "    shiftx = x - np.max(x)\n",
    "    exps = np.exp(shiftx)\n",
    "    return exps/np.sum(exps, axis=0).reshape(1, -1)\n",
    "\n",
    "def softmax_grad(softmax):\n",
    "    # Reshape the 1-d softmax to 2-d so that np.dot will do the matrix multiplication\n",
    "    s = softmax.reshape(-1,1)\n",
    "    return np.diagflat(s) - np.dot(s, s.T)\n",
    "\n",
    "\n",
    "def cross_entropy(p, q):\n",
    "    return -np.mean(p*np.log2(q))\n",
    "\n",
    "def cross_entropy_slope(p, q):\n",
    "    return (-1/np.log(2))*p/q\n",
    "\n",
    "def cross_entropy_softmax_slope(p, y_labels):\n",
    "    \"\"\"\n",
    "    p : (num_classes, num_examples)\n",
    "    y_labels: (num_examples, n_classes)\n",
    "    \"\"\"\n",
    "    print(p.shape, y_labels.shape)\n",
    "    m = y_labels.shape[0]\n",
    "    grad = p.T\n",
    "    grad[range(m),y] -= 1\n",
    "    return (grad/m).T"
   ]
  },
  {
   "cell_type": "code",
   "execution_count": 61,
   "metadata": {},
   "outputs": [],
   "source": [
    "from torch import nn\n",
    "import torch\n",
    "m = nn.CrossEntropyLoss()\n",
    "#input = torch.Tensor(X) # n_classes, batchsize\n",
    "#output = m(input)"
   ]
  },
  {
   "cell_type": "code",
   "execution_count": null,
   "metadata": {},
   "outputs": [],
   "source": []
  },
  {
   "cell_type": "code",
   "execution_count": 67,
   "metadata": {},
   "outputs": [
    {
     "name": "stdout",
     "output_type": "stream",
     "text": [
      "tensor(0.7112) 1.000231016571742\n",
      "(2, 1) (1,)\n"
     ]
    },
    {
     "ename": "IndexError",
     "evalue": "invalid index to scalar variable.",
     "output_type": "error",
     "traceback": [
      "\u001b[0;31m---------------------------------------------------------------------------\u001b[0m",
      "\u001b[0;31mIndexError\u001b[0m                                Traceback (most recent call last)",
      "\u001b[0;32m<ipython-input-67-349a44fba2a0>\u001b[0m in \u001b[0;36m<module>\u001b[0;34m\u001b[0m\n\u001b[1;32m     67\u001b[0m \u001b[0;34m\u001b[0m\u001b[0m\n\u001b[1;32m     68\u001b[0m \u001b[0;31m#print(w)\u001b[0m\u001b[0;34m\u001b[0m\u001b[0;34m\u001b[0m\u001b[0;34m\u001b[0m\u001b[0m\n\u001b[0;32m---> 69\u001b[0;31m \u001b[0maxs\u001b[0m\u001b[0;34m[\u001b[0m\u001b[0;36m0\u001b[0m\u001b[0;34m]\u001b[0m\u001b[0;34m.\u001b[0m\u001b[0maxhline\u001b[0m\u001b[0;34m(\u001b[0m\u001b[0my\u001b[0m\u001b[0;34m[\u001b[0m\u001b[0;36m0\u001b[0m\u001b[0;34m]\u001b[0m\u001b[0;34m[\u001b[0m\u001b[0;36m0\u001b[0m\u001b[0;34m]\u001b[0m\u001b[0;34m,\u001b[0m \u001b[0mls\u001b[0m\u001b[0;34m=\u001b[0m\u001b[0;34m'--'\u001b[0m\u001b[0;34m)\u001b[0m\u001b[0;34m\u001b[0m\u001b[0;34m\u001b[0m\u001b[0m\n\u001b[0m\u001b[1;32m     70\u001b[0m \u001b[0maxs\u001b[0m\u001b[0;34m[\u001b[0m\u001b[0;36m0\u001b[0m\u001b[0;34m]\u001b[0m\u001b[0;34m.\u001b[0m\u001b[0maxhline\u001b[0m\u001b[0;34m(\u001b[0m\u001b[0my\u001b[0m\u001b[0;34m[\u001b[0m\u001b[0;36m0\u001b[0m\u001b[0;34m]\u001b[0m\u001b[0;34m[\u001b[0m\u001b[0;36m1\u001b[0m\u001b[0;34m]\u001b[0m\u001b[0;34m,\u001b[0m \u001b[0mls\u001b[0m\u001b[0;34m=\u001b[0m\u001b[0;34m'--'\u001b[0m\u001b[0;34m)\u001b[0m\u001b[0;34m\u001b[0m\u001b[0;34m\u001b[0m\u001b[0m\n\u001b[1;32m     71\u001b[0m \u001b[0maxs\u001b[0m\u001b[0;34m[\u001b[0m\u001b[0;36m0\u001b[0m\u001b[0;34m]\u001b[0m\u001b[0;34m.\u001b[0m\u001b[0mplot\u001b[0m\u001b[0;34m(\u001b[0m\u001b[0moutputs\u001b[0m\u001b[0;34m[\u001b[0m\u001b[0;34m:\u001b[0m\u001b[0;34m,\u001b[0m \u001b[0;36m0\u001b[0m\u001b[0;34m]\u001b[0m\u001b[0;34m)\u001b[0m\u001b[0;34m\u001b[0m\u001b[0;34m\u001b[0m\u001b[0m\n",
      "\u001b[0;31mIndexError\u001b[0m: invalid index to scalar variable."
     ]
    },
    {
     "data": {
      "image/png": "[encoded data removed]",
      "text/plain": [
       "<Figure size 720x432 with 2 Axes>"
      ]
     },
     "metadata": {
      "needs_background": "light"
     },
     "output_type": "display_data"
    }
   ],
   "source": [
    "\n",
    "\n",
    "n_hidden = 20\n",
    "\n",
    "X = np.array([[0.25], \n",
    "              [0.25],  \n",
    "              [1]])   # (n_features, n_examples)\n",
    "\n",
    "# outputs are 1d\n",
    "y = np.array([1]) # (n_examples, n_classes)\n",
    "\n",
    "\n",
    "n_examples = y.shape[0]\n",
    "n_features = X.shape[0]\n",
    "n_output = 2\n",
    "np.random.seed(1)\n",
    "learning_rate = 0.1\n",
    "batchsize = y.shape[0]\n",
    "\n",
    "W1 = np.random.normal(size=(n_hidden, n_features)) # assume some random weights and data\n",
    "W2 = np.random.normal(size=(n_output, n_hidden)) # assume some random weights and data\n",
    "\n",
    "losses = []\n",
    "outputs = []\n",
    "\n",
    "for j in range(300):\n",
    "    s1 = np.dot(W1, X)  # (n_hidden, batchsize)\n",
    "    f1 = sigmoid(s1)    # ... again\n",
    "    assert f1.shape == (n_hidden, batchsize)\n",
    "    \n",
    "    # output of second linear layer\n",
    "    s2 = np.dot(W2, f1) # (n_classes, batchsize)\n",
    "    f2 = softmax(s2)    # ... again\n",
    "    \n",
    "    assert f2.shape == (2, batchsize)\n",
    "    # least squares loss\n",
    "    L = cross_entropy(y, f2) \n",
    "    print(output, L)\n",
    "    # backward pass \n",
    "    #dLdf2 = cross_entropy_slope(y, f2.T)  # dimensions of f2\n",
    "    #df2ds2 = softmax_grad(f2) # ()\n",
    "    \n",
    "    #dLds2 = dLdf2.dot(df2ds2)\n",
    "    dLds2 = cross_entropy_softmax_slope(f2, y) # (n_classes, batchsize)\n",
    "    assert dLds2.shape == (2, 1), dLds2.shape\n",
    "    dLdW2 = f1.dot(dLds2.T).T # n_output, n_hidden\n",
    "    assert dLdW2.shape == (n_output, n_hidden), dLdW2.shape\n",
    "    ds2df1 = W2\n",
    "    dLdf1 = ds2df1.T.dot(dLds2) # (n_hidden, batchsize)\n",
    "    assert dLdf1.shape == (n_hidden, batchsize), dLdf1.shape\n",
    "    \n",
    "    dLds1 = sigmoid_slope(f1)\n",
    "    dLdW1 = X.dot(dLds1.T).T  # (n_hidden, n_features)\n",
    "    \n",
    "    assert dLdW1.shape == (n_hidden, n_features)\n",
    "    #print(W2.shape, learning_rate, dLdW2)\n",
    "    W2 += -learning_rate*dLdW2\n",
    "    W1 += -learning_rate*dLdW1\n",
    "    \n",
    "    losses.append(L)\n",
    "    outputs.append(f2)\n",
    "    break\n",
    "outputs = np.array(outputs).reshape(-1, 2)\n",
    "#print(outputs)\n",
    "fig, axs = plt.subplots(2, 1, sharex=True, figsize=(10,6))\n",
    "axs[0].set_ylabel('Output')\n",
    "axs[1].set_ylabel('Loss')\n",
    "axs[1].set_xlabel('Epoch')\n",
    "\n",
    "#print(w)\n",
    "axs[0].axhline(y[0][0], ls='--')\n",
    "axs[0].axhline(y[0][1], ls='--')\n",
    "axs[0].plot(outputs[:, 0])\n",
    "axs[0].plot(outputs[:, 1])\n",
    "axs[1].plot(losses)\n"
   ]
  },
  {
   "cell_type": "markdown",
   "metadata": {},
   "source": [
    "These seem to converge, but they are quite unstable (try turning up the number of epochs)\n",
    "\n",
    "# Two layer softmax classifier, with minibatches\n",
    "\n",
    "Here is where things start to break down a bit..."
   ]
  },
  {
   "cell_type": "code",
   "execution_count": 8,
   "metadata": {},
   "outputs": [
    {
     "name": "stdout",
     "output_type": "stream",
     "text": [
      "(2, 3) (2, 3, 6) (2, 3)\n"
     ]
    },
    {
     "ename": "ValueError",
     "evalue": "shapes (3,2) and (2,3,6) not aligned: 2 (dim 1) != 3 (dim 1)",
     "output_type": "error",
     "traceback": [
      "\u001b[0;31m---------------------------------------------------------------------------\u001b[0m",
      "\u001b[0;31mValueError\u001b[0m                                Traceback (most recent call last)",
      "\u001b[0;32m<ipython-input-8-762c078d6e23>\u001b[0m in \u001b[0;36m<module>\u001b[0;34m\u001b[0m\n\u001b[1;32m     40\u001b[0m     \u001b[0mdf2ds2\u001b[0m \u001b[0;34m=\u001b[0m \u001b[0mdf2ds2\u001b[0m\u001b[0;34m.\u001b[0m\u001b[0mreshape\u001b[0m\u001b[0;34m(\u001b[0m\u001b[0mf2\u001b[0m\u001b[0;34m.\u001b[0m\u001b[0mshape\u001b[0m\u001b[0;34m[\u001b[0m\u001b[0;36m0\u001b[0m\u001b[0;34m]\u001b[0m\u001b[0;34m,\u001b[0m \u001b[0mf2\u001b[0m\u001b[0;34m.\u001b[0m\u001b[0mshape\u001b[0m\u001b[0;34m[\u001b[0m\u001b[0;36m1\u001b[0m\u001b[0;34m]\u001b[0m\u001b[0;34m,\u001b[0m \u001b[0;34m-\u001b[0m\u001b[0;36m1\u001b[0m\u001b[0;34m)\u001b[0m\u001b[0;34m\u001b[0m\u001b[0;34m\u001b[0m\u001b[0m\n\u001b[1;32m     41\u001b[0m     \u001b[0mprint\u001b[0m\u001b[0;34m(\u001b[0m\u001b[0mf2\u001b[0m\u001b[0;34m.\u001b[0m\u001b[0mshape\u001b[0m\u001b[0;34m,\u001b[0m \u001b[0mdf2ds2\u001b[0m\u001b[0;34m.\u001b[0m\u001b[0mshape\u001b[0m\u001b[0;34m,\u001b[0m \u001b[0mdLdf2\u001b[0m\u001b[0;34m.\u001b[0m\u001b[0mshape\u001b[0m\u001b[0;34m)\u001b[0m\u001b[0;34m\u001b[0m\u001b[0;34m\u001b[0m\u001b[0m\n\u001b[0;32m---> 42\u001b[0;31m     \u001b[0mdLds2\u001b[0m \u001b[0;34m=\u001b[0m \u001b[0mdLdf2\u001b[0m\u001b[0;34m.\u001b[0m\u001b[0mT\u001b[0m\u001b[0;34m.\u001b[0m\u001b[0mdot\u001b[0m\u001b[0;34m(\u001b[0m\u001b[0mdf2ds2\u001b[0m\u001b[0;34m)\u001b[0m\u001b[0;34m\u001b[0m\u001b[0;34m\u001b[0m\u001b[0m\n\u001b[0m\u001b[1;32m     43\u001b[0m     \u001b[0mdLdW2\u001b[0m \u001b[0;34m=\u001b[0m \u001b[0mf1\u001b[0m\u001b[0;34m.\u001b[0m\u001b[0mdot\u001b[0m\u001b[0;34m(\u001b[0m\u001b[0mdLds2\u001b[0m\u001b[0;34m)\u001b[0m\u001b[0;34m.\u001b[0m\u001b[0mT\u001b[0m \u001b[0;31m# n_output, n_hidden\u001b[0m\u001b[0;34m\u001b[0m\u001b[0;34m\u001b[0m\u001b[0m\n\u001b[1;32m     44\u001b[0m \u001b[0;34m\u001b[0m\u001b[0m\n",
      "\u001b[0;31mValueError\u001b[0m: shapes (3,2) and (2,3,6) not aligned: 2 (dim 1) != 3 (dim 1)"
     ]
    }
   ],
   "source": [
    "n_hidden = 20\n",
    "\n",
    "\n",
    "X = np.array([[0.25, -0.25, -0.3], \n",
    "              [0.25, -0.25, -0.32],  \n",
    "              [1,    -1,    -1.05]])   # (n_features, n_examples)\n",
    "\n",
    "# outputs are 1d\n",
    "y = np.array([[1, 0, 0],\n",
    "              [0, 1, 1]])\n",
    "\n",
    "n_examples = y.shape[0]\n",
    "n_features = X.shape[0]\n",
    "n_output = 2\n",
    "np.random.seed(1)\n",
    "learning_rate = 0.01\n",
    "\n",
    "\n",
    "W1 = np.random.normal(size=(n_hidden, n_features)) # assume some random weights and data\n",
    "W2 = np.random.normal(size=(n_output, n_hidden)) # assume some random weights and data\n",
    "\n",
    "losses = []\n",
    "outputs = []\n",
    "\n",
    "for j in range(300):\n",
    "    s1 = np.dot(W1, X)  # (n_hidden, batchsize)\n",
    "    f1 = sigmoid(s1)    # ... again\n",
    "    \n",
    "    # output of second linear layer\n",
    "    s2 = np.dot(W2, f1) # (n_output (2), batchsize)\n",
    "    f2 = softmax(s2)    # ... again\n",
    "    \n",
    "    # least squares loss\n",
    "    L = cross_entropy(y, f2)\n",
    "    \n",
    "    dLdf2 = cross_entropy_slope(y, f2) # (1, 2)\n",
    "    \n",
    "    df2ds2 = softmax_grad(f2)\n",
    "    print(f2.shape, df2ds2.shape, dLdf2.shape)\n",
    "    \n",
    "    #df2ds2 = df2ds2.reshape(f2.shape[0], f2.shape[1], -1) ?\n",
    "\n",
    "    dLds2 = dLdf2.T.dot(df2ds2)\n",
    "    dLdW2 = f1.dot(dLds2).T # n_output, n_hidden\n",
    "    \n",
    "    ds2df1 = W2\n",
    "    dLdf1 = dLds2.dot(ds2df1) # (n_hidden, batchsize)\n",
    "    \n",
    "    \n",
    "    dLds1 = sigmoid_slope(f1)\n",
    "    dLdW1 = X.dot(dLds1.T)  # (n_hidden, n_features)\n",
    "    \n",
    "    W2 += -learning_rate*dLdW2\n",
    "    W1 += -learning_rate*dLdW1.T\n",
    "    \n",
    "    losses.append(L)\n",
    "    outputs.append(f2)\n",
    "    \n",
    "outputs = np.array(outputs).reshape(-1, 2)\n",
    "\n",
    "fig, axs = plt.subplots(2, 1, sharex=True, figsize=(10,6))\n",
    "axs[0].set_ylabel('Output')\n",
    "axs[1].set_ylabel('Loss')\n",
    "axs[1].set_xlabel('Epoch')\n",
    "\n",
    "\n",
    "axs[0].axhline(y[0][0], ls='--')\n",
    "axs[0].axhline(y[0][1], ls='--')\n",
    "axs[0].plot(outputs[:, 0])\n",
    "axs[0].plot(outputs[:, 1])\n",
    "axs[1].plot(losses)\n"
   ]
  },
  {
   "cell_type": "markdown",
   "metadata": {},
   "source": [
    "I can't figure out how to make the local derivative $$\\partial f_2/ \\partial s_2$$\n",
    "have the right dimensions. I guess I have to reshape some of the matrices somewhere?"
   ]
  },
  {
   "cell_type": "code",
   "execution_count": null,
   "metadata": {},
   "outputs": [],
   "source": []
  }
 ],
 "metadata": {
  "kernelspec": {
   "display_name": "Python 3",
   "language": "python",
   "name": "python3"
  },
  "language_info": {
   "codemirror_mode": {
    "name": "ipython",
    "version": 3
   },
   "file_extension": ".py",
   "mimetype": "text/x-python",
   "name": "python",
   "nbconvert_exporter": "python",
   "pygments_lexer": "ipython3",
   "version": "3.7.3"
  }
 },
 "nbformat": 4,
 "nbformat_minor": 4
}
